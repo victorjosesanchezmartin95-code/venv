{
 "cells": [
  {
   "cell_type": "markdown",
   "metadata": {},
   "source": [
    "---\n",
    "### ¿Qué es una API Rest?\n",
    "---\n",
    "La sigla API significa «interfaz de programación de aplicaciones». Una API es un conjunto de reglas que permiten a los programas informáticos interactuar entre sí. Por otra parte, un API REST es un tipo específico de interfaz de usuario, que utiliza el protocolo REST (Transferencia de estado representacional) para transferir datos.\n",
    "\n",
    "REST define un conjunto de restricciones que garantizan la coherencia de una API,por ejemplo, cómo se organizan los datos y cómo se accede a ellos. Estas restricciones hacen que las APIs REST sean fáciles de usar, porque se basan en estándares existentes (como el Protocolo de Transferencia de Hipertexto, o «http»).\n",
    "\n",
    "<p align=\"center\">\n",
    "  <img src=\"../5.-Api/ws_5.PNG\" title=\"ws_5\" />\n",
    "</p>\n",
    "\n"
   ]
  },
  {
   "cell_type": "markdown",
   "metadata": {},
   "source": [
    "---\n",
    "### Cómo funcionan las APIs\n",
    "---\n",
    "\n",
    "Una API funciona como un intermediario que permite que dos aplicaciones se comuniquen entre sí. Pues bien, entre sus componentes clave se incluyen los siguientes:\n",
    "\n",
    "- Protocolo de comunicación: Define cómo se realizan las solicitudes y respuestas.\n",
    "\n",
    "- Endpoints: Son las direcciones específicas donde acceder a las APIs.\n",
    "\n",
    "- Métodos: Determinan las acciones que se pueden realizar (como GET para obtener datos o POST para enviarlos).\n",
    "\n",
    "- Además, las APIs utilizan parámetros para filtrar y especificar la información solicitada, y formatos de datos (como JSON o XML) para estructurar los datos intercambiados.\n",
    "\n",
    "Este conjunto de reglas y especificaciones asegura que las aplicaciones puedan compartir datos y funcionalidades de manera eficiente y segura, facilitando así la creación de sistemas más integrados y funcionales.\n",
    "\n",
    "<p align=\"center\">\n",
    "  <img src=\"../5.-Api/ws_7.PNG\" title=\"ws_7\" />\n",
    "</p>\n"
   ]
  },
  {
   "cell_type": "markdown",
   "metadata": {},
   "source": [
    "---\n",
    "### Tipos de APIs\n",
    "---\n",
    "\n",
    "Las APIs están disponibles en diversas formas, cada una de ellas adaptada a necesidades específicas:\n",
    "\n",
    "- REST (Representational State Transfer): Utilizada principalmente para aplicaciones web, es conocida por su simplicidad y eficiencia.\n",
    "\n",
    "- SOAP (Simple Object Access Protocol): Ofrece un mayor nivel de seguridad, ideal para transacciones empresariales.\n",
    "\n",
    "- APIs Privadas: Diseñadas para uso interno en una organización. Permiten tomar el control total sobre la API con funciones de seguridad mejorada, así como la integración de sistemas internos para flujos de trabajo empresariales.\n",
    "\n",
    "- APIs Públicas: Disponibles para desarrolladores externos. Pueden ser gratuitas o de pago, su documentación es accesible y permiten ampliar el alcance de los servicios para fomentar la innovación externa.\n",
    "\n",
    "- APIs de Streaming: Permiten la transmisión de datos en tiempo real, como en servicios en línea de transmisión de vídeo o música.\n",
    "\n",
    "- APIs de Hardware: Facilitan la interacción con dispositivos físicos.\n",
    "\n",
    "- GraphQL: Permite a los clientes solicitar exactamente los datos que necesitan, haciéndola eficiente para aplicaciones complejas.\n",
    "\n",
    "<p align=\"center\">\n",
    "  <img src=\"../5.-Api/ws_8.PNG\" title=\"ws_8\" />\n",
    "</p>"
   ]
  },
  {
   "cell_type": "markdown",
   "metadata": {},
   "source": [
    "---\n",
    "### Métodos en una API\n",
    "---\n",
    "\n",
    "Método se refiere a la acción que se debe realizar en una solicitud HTTP, como obtener información, enviar información, actualizar información o eliminar información.\n",
    "\n",
    "Los métodos HTTP más comunes utilizados en las API son:\n",
    "\n",
    "<p align=\"center\">\n",
    "  <img src=\"../5.-Api//ws_6.PNG\" />\n",
    "</p>\n",
    "\n",
    "- GET: utilizado para recuperar información del servidor. Esta solicitud no cambia nada en el servidor y se considera una operación \"segura\" ya que no modifica ningún dato en el servidor.\n",
    "\n",
    "- POST: utilizado para enviar información al servidor para que la procese. Esta solicitud puede crear o modificar datos en el servidor y no es considerada una operación \"segura\".\n",
    "\n",
    "- PUT: utilizado para actualizar información existente en el servidor. Esta solicitud puede crear nuevos datos si no existen y también puede modificar datos existentes. Es considerada una operación \"no segura\".\n",
    "\n",
    "- DELETE: utilizado para eliminar información del servidor. Esta solicitud es considerada una operación \"no segura\" ya que elimina información del servidor."
   ]
  },
  {
   "cell_type": "markdown",
   "metadata": {},
   "source": [
    "---\n",
    "### APIs populares y su impacto en el mercado\n",
    "---\n",
    "\n",
    "Algunas APIs han tenido un impacto muy significativo en nuestros días.\n",
    "\n",
    "- API de Google Maps: ha revolucionado la forma en que las aplicaciones manejan la geolocalización y la navegación, siendo ampliamente utilizada en servicios de transporte y entrega.\n",
    "\n",
    "- API de Twitter: Ha permitido a los desarrolladores integrar capacidades de redes sociales en sus aplicaciones, facilitando la difusión de contenido y la interacción con los usuarios. Este tipo de APIs de redes sociales se han convertido en esenciales a la hora de interactuar con el público objetivo con un nivel de cercanía inimaginable hace tan solo unos años.\n",
    "\n",
    "- API de Amazon: En el ámbito del comercio electrónico, ha sido crucial para permitir a los vendedores integrar sus productos en el gigantesco ecosistema de Amazon.\n",
    "\n",
    "- Instagram API: Permite interactuar con cuentas de usuario, fotos o etiquetas. Es ampliamente utilizada para integrar funcionalidades de redes sociales en aplicaciones.\n",
    "\n",
    "- GitHub API: Utilizada para rastrear la actividad del usuario, seguir problemas y crear repositorios. Es un ejemplo clave de cómo las APIs pueden facilitar la gestión de proyectos de software.\n",
    "\n",
    "- Google Translate API: Ofrece servicios de traducción, demostrando cómo las APIs pueden proporcionar capacidades complejas de procesamiento de lenguaje natural."
   ]
  },
  {
   "cell_type": "markdown",
   "metadata": {},
   "source": [
    "---\n",
    "### ¿Qué necesitas para integrar una API ?\n",
    "---\n",
    "\n",
    "Para integrar una API, generalmente necesitas :\n",
    "- Una clave API o token de acceso proporcionado por la plataforma, \n",
    "\n",
    "- Conocimiento de la documentación de la API para entender sus funciones y limitaciones \n",
    "\n",
    "- Habilidades de programación para realizar y manejar las solicitudes y respuestas de la API."
   ]
  },
  {
   "cell_type": "markdown",
   "metadata": {},
   "source": [
    "---\n",
    "### ¿Cuáles son los beneficios de usar APIs en una empresa?\n",
    "---\n",
    "\n",
    "Implementar APIs conlleva múltiples ventajas. Estas herramientas mejoran la eficiencia operativa al automatizar tareas y procesos, permiten una mayor integración con otros servicios y sistemas."
   ]
  }
 ],
 "metadata": {
  "language_info": {
   "name": "python"
  }
 },
 "nbformat": 4,
 "nbformat_minor": 2
}
